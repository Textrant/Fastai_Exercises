#hide
!pip install -Uqq fastbook
import fastbook
fastbook.setup_book()

#hide
from fastbook import *
from fastai.vision.widgets import *

!pip install voila
!jupyter serverextension enable voila --sys-prefix

path = Path()

def parent_label_multi(o):
    return [Path(o).parent.name.split(' ')[0]]

learn_inf = load_learner('export.pkl')

learn_inf.predict('bears2/black bear/Image_10.jpg')

targets = learn_inf.dls.vocab

btn_upload = widgets.FileUpload()
btn_upload

img = PILImage.create(btn_upload.data[-1])

out_pl = widgets.Output()
out_pl.clear_output()
with out_pl: display(img.to_thumb(128,128))
out_pl

pred,pred_idx,probs=learn_inf.predict(img)
pred,pred_idx,probs

lbl_pred = widgets.Label()
lbl_pred.value = f'Prediction: {pred}; Probability: {float(probs[pred_idx]):.04f}'
lbl_pred

btn_run = widgets.Button(description='Classify')
btn_run

def on_click_classify(change):
    img = PILImage.create(btn_upload.data[-1])
    out_pl.clear_output()
    with out_pl: display(img.to_thumb(128,128))
    pred,pred_idx,probs=learn_inf.predict(img)
    lbl_pred.value = f'Prediction: {pred}; Probability: {float(probs[pred_idx]):.04f}'
    
btn_run.on_click(on_click_classify)

VBox([widgets.Label('Select your bear!'),
     btn_upload, btn_run, out_pl, lbl_pred])

